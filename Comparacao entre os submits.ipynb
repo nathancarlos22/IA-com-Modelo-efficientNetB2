{
 "cells": [
  {
   "cell_type": "code",
   "execution_count": 34,
   "metadata": {},
   "outputs": [],
   "source": [
    "import pandas as pd\n",
    "from os import listdir\n",
    "from numpy import loadtxt"
   ]
  },
  {
   "cell_type": "code",
   "execution_count": 67,
   "metadata": {},
   "outputs": [],
   "source": [
    "dir_teste_sigmoid_dropout_05 = 'C:/Users/natha/Desktop/IA-com-Modelo-resnetB2/testes/teste_sigmoid_dropout_0,5/submission.csv'\n",
    "dir_teste_sigmoid_dropout_015 = 'C:/Users/natha/Desktop/IA-com-Modelo-resnetB2/testes/teste_sigmoid_dropout_0,15/submission.csv'\n",
    "\n",
    "dir_teste_softmax_dropout_015 = 'C:/Users/natha/Desktop/IA-com-Modelo-resnetB2/testes/teste_softmax_dropout_0,15/submission.csv' \n",
    "dir_teste_softmax_dropout_05 = 'C:/Users/natha/Desktop/IA-com-Modelo-resnetB2/testes/teste_softmax_dropout_0,5/submission.csv' "
   ]
  },
  {
   "cell_type": "code",
   "execution_count": 36,
   "metadata": {},
   "outputs": [
    {
     "output_type": "execute_result",
     "data": {
      "text/plain": "                              ID     Label\n0               ID_000000e27_any  0.056319\n1          ID_000000e27_epidural  0.003606\n2  ID_000000e27_intraparenchymal  0.004152\n3  ID_000000e27_intraventricular  0.000606\n4      ID_000000e27_subarachnoid  0.021173\n5          ID_000000e27_subdural  0.037575\n6               ID_000009146_any  0.000230\n7          ID_000009146_epidural  0.000024\n8  ID_000009146_intraparenchymal  0.000108\n9  ID_000009146_intraventricular  0.000050",
      "text/html": "<div>\n<style scoped>\n    .dataframe tbody tr th:only-of-type {\n        vertical-align: middle;\n    }\n\n    .dataframe tbody tr th {\n        vertical-align: top;\n    }\n\n    .dataframe thead th {\n        text-align: right;\n    }\n</style>\n<table border=\"1\" class=\"dataframe\">\n  <thead>\n    <tr style=\"text-align: right;\">\n      <th></th>\n      <th>ID</th>\n      <th>Label</th>\n    </tr>\n  </thead>\n  <tbody>\n    <tr>\n      <th>0</th>\n      <td>ID_000000e27_any</td>\n      <td>0.056319</td>\n    </tr>\n    <tr>\n      <th>1</th>\n      <td>ID_000000e27_epidural</td>\n      <td>0.003606</td>\n    </tr>\n    <tr>\n      <th>2</th>\n      <td>ID_000000e27_intraparenchymal</td>\n      <td>0.004152</td>\n    </tr>\n    <tr>\n      <th>3</th>\n      <td>ID_000000e27_intraventricular</td>\n      <td>0.000606</td>\n    </tr>\n    <tr>\n      <th>4</th>\n      <td>ID_000000e27_subarachnoid</td>\n      <td>0.021173</td>\n    </tr>\n    <tr>\n      <th>5</th>\n      <td>ID_000000e27_subdural</td>\n      <td>0.037575</td>\n    </tr>\n    <tr>\n      <th>6</th>\n      <td>ID_000009146_any</td>\n      <td>0.000230</td>\n    </tr>\n    <tr>\n      <th>7</th>\n      <td>ID_000009146_epidural</td>\n      <td>0.000024</td>\n    </tr>\n    <tr>\n      <th>8</th>\n      <td>ID_000009146_intraparenchymal</td>\n      <td>0.000108</td>\n    </tr>\n    <tr>\n      <th>9</th>\n      <td>ID_000009146_intraventricular</td>\n      <td>0.000050</td>\n    </tr>\n  </tbody>\n</table>\n</div>"
     },
     "metadata": {},
     "execution_count": 36
    }
   ],
   "source": [
    "teste_sigmoid_dropout_05 = pd.read_csv(dir_teste_sigmoid_dropout_05)\n",
    "teste_sigmoid_dropout_05.head(10)"
   ]
  },
  {
   "cell_type": "code",
   "execution_count": 20,
   "metadata": {},
   "outputs": [
    {
     "output_type": "execute_result",
     "data": {
      "text/plain": "                              ID     Label\n0               ID_000000e27_any  0.077848\n1          ID_000000e27_epidural  0.005943\n2  ID_000000e27_intraparenchymal  0.005107\n3  ID_000000e27_intraventricular  0.000446\n4      ID_000000e27_subarachnoid  0.035602\n5          ID_000000e27_subdural  0.049312\n6               ID_000009146_any  0.000242\n7          ID_000009146_epidural  0.000148\n8  ID_000009146_intraparenchymal  0.000038\n9  ID_000009146_intraventricular  0.000013",
      "text/html": "<div>\n<style scoped>\n    .dataframe tbody tr th:only-of-type {\n        vertical-align: middle;\n    }\n\n    .dataframe tbody tr th {\n        vertical-align: top;\n    }\n\n    .dataframe thead th {\n        text-align: right;\n    }\n</style>\n<table border=\"1\" class=\"dataframe\">\n  <thead>\n    <tr style=\"text-align: right;\">\n      <th></th>\n      <th>ID</th>\n      <th>Label</th>\n    </tr>\n  </thead>\n  <tbody>\n    <tr>\n      <th>0</th>\n      <td>ID_000000e27_any</td>\n      <td>0.077848</td>\n    </tr>\n    <tr>\n      <th>1</th>\n      <td>ID_000000e27_epidural</td>\n      <td>0.005943</td>\n    </tr>\n    <tr>\n      <th>2</th>\n      <td>ID_000000e27_intraparenchymal</td>\n      <td>0.005107</td>\n    </tr>\n    <tr>\n      <th>3</th>\n      <td>ID_000000e27_intraventricular</td>\n      <td>0.000446</td>\n    </tr>\n    <tr>\n      <th>4</th>\n      <td>ID_000000e27_subarachnoid</td>\n      <td>0.035602</td>\n    </tr>\n    <tr>\n      <th>5</th>\n      <td>ID_000000e27_subdural</td>\n      <td>0.049312</td>\n    </tr>\n    <tr>\n      <th>6</th>\n      <td>ID_000009146_any</td>\n      <td>0.000242</td>\n    </tr>\n    <tr>\n      <th>7</th>\n      <td>ID_000009146_epidural</td>\n      <td>0.000148</td>\n    </tr>\n    <tr>\n      <th>8</th>\n      <td>ID_000009146_intraparenchymal</td>\n      <td>0.000038</td>\n    </tr>\n    <tr>\n      <th>9</th>\n      <td>ID_000009146_intraventricular</td>\n      <td>0.000013</td>\n    </tr>\n  </tbody>\n</table>\n</div>"
     },
     "metadata": {},
     "execution_count": 20
    }
   ],
   "source": [
    "teste_sigmoid_dropout_015 = pd.read_csv(dir_teste_sigmoid_dropout_015)\n",
    "teste_sigmoid_dropout_015.head(10)"
   ]
  },
  {
   "cell_type": "code",
   "execution_count": 21,
   "metadata": {},
   "outputs": [
    {
     "output_type": "execute_result",
     "data": {
      "text/plain": "                              ID     Label\n0               ID_000000e27_any  0.208929\n1          ID_000000e27_epidural  0.129458\n2  ID_000000e27_intraparenchymal  0.161463\n3  ID_000000e27_intraventricular  0.118203\n4      ID_000000e27_subarachnoid  0.177267\n5          ID_000000e27_subdural  0.204680\n6               ID_000009146_any  0.155859\n7          ID_000009146_epidural  0.159233\n8  ID_000009146_intraparenchymal  0.165837\n9  ID_000009146_intraventricular  0.174159",
      "text/html": "<div>\n<style scoped>\n    .dataframe tbody tr th:only-of-type {\n        vertical-align: middle;\n    }\n\n    .dataframe tbody tr th {\n        vertical-align: top;\n    }\n\n    .dataframe thead th {\n        text-align: right;\n    }\n</style>\n<table border=\"1\" class=\"dataframe\">\n  <thead>\n    <tr style=\"text-align: right;\">\n      <th></th>\n      <th>ID</th>\n      <th>Label</th>\n    </tr>\n  </thead>\n  <tbody>\n    <tr>\n      <th>0</th>\n      <td>ID_000000e27_any</td>\n      <td>0.208929</td>\n    </tr>\n    <tr>\n      <th>1</th>\n      <td>ID_000000e27_epidural</td>\n      <td>0.129458</td>\n    </tr>\n    <tr>\n      <th>2</th>\n      <td>ID_000000e27_intraparenchymal</td>\n      <td>0.161463</td>\n    </tr>\n    <tr>\n      <th>3</th>\n      <td>ID_000000e27_intraventricular</td>\n      <td>0.118203</td>\n    </tr>\n    <tr>\n      <th>4</th>\n      <td>ID_000000e27_subarachnoid</td>\n      <td>0.177267</td>\n    </tr>\n    <tr>\n      <th>5</th>\n      <td>ID_000000e27_subdural</td>\n      <td>0.204680</td>\n    </tr>\n    <tr>\n      <th>6</th>\n      <td>ID_000009146_any</td>\n      <td>0.155859</td>\n    </tr>\n    <tr>\n      <th>7</th>\n      <td>ID_000009146_epidural</td>\n      <td>0.159233</td>\n    </tr>\n    <tr>\n      <th>8</th>\n      <td>ID_000009146_intraparenchymal</td>\n      <td>0.165837</td>\n    </tr>\n    <tr>\n      <th>9</th>\n      <td>ID_000009146_intraventricular</td>\n      <td>0.174159</td>\n    </tr>\n  </tbody>\n</table>\n</div>"
     },
     "metadata": {},
     "execution_count": 21
    }
   ],
   "source": [
    "teste_softmax = pd.read_csv(dir_teste_softmax)\n",
    "teste_softmax.head(10)"
   ]
  },
  {
   "cell_type": "code",
   "execution_count": 68,
   "metadata": {},
   "outputs": [
    {
     "output_type": "execute_result",
     "data": {
      "text/plain": "                              ID     Label\n0               ID_000000e27_any  0.208929\n1          ID_000000e27_epidural  0.129458\n2  ID_000000e27_intraparenchymal  0.161463\n3  ID_000000e27_intraventricular  0.118203\n4      ID_000000e27_subarachnoid  0.177267\n5          ID_000000e27_subdural  0.204680\n6               ID_000009146_any  0.155859\n7          ID_000009146_epidural  0.159233\n8  ID_000009146_intraparenchymal  0.165837\n9  ID_000009146_intraventricular  0.174159",
      "text/html": "<div>\n<style scoped>\n    .dataframe tbody tr th:only-of-type {\n        vertical-align: middle;\n    }\n\n    .dataframe tbody tr th {\n        vertical-align: top;\n    }\n\n    .dataframe thead th {\n        text-align: right;\n    }\n</style>\n<table border=\"1\" class=\"dataframe\">\n  <thead>\n    <tr style=\"text-align: right;\">\n      <th></th>\n      <th>ID</th>\n      <th>Label</th>\n    </tr>\n  </thead>\n  <tbody>\n    <tr>\n      <th>0</th>\n      <td>ID_000000e27_any</td>\n      <td>0.208929</td>\n    </tr>\n    <tr>\n      <th>1</th>\n      <td>ID_000000e27_epidural</td>\n      <td>0.129458</td>\n    </tr>\n    <tr>\n      <th>2</th>\n      <td>ID_000000e27_intraparenchymal</td>\n      <td>0.161463</td>\n    </tr>\n    <tr>\n      <th>3</th>\n      <td>ID_000000e27_intraventricular</td>\n      <td>0.118203</td>\n    </tr>\n    <tr>\n      <th>4</th>\n      <td>ID_000000e27_subarachnoid</td>\n      <td>0.177267</td>\n    </tr>\n    <tr>\n      <th>5</th>\n      <td>ID_000000e27_subdural</td>\n      <td>0.204680</td>\n    </tr>\n    <tr>\n      <th>6</th>\n      <td>ID_000009146_any</td>\n      <td>0.155859</td>\n    </tr>\n    <tr>\n      <th>7</th>\n      <td>ID_000009146_epidural</td>\n      <td>0.159233</td>\n    </tr>\n    <tr>\n      <th>8</th>\n      <td>ID_000009146_intraparenchymal</td>\n      <td>0.165837</td>\n    </tr>\n    <tr>\n      <th>9</th>\n      <td>ID_000009146_intraventricular</td>\n      <td>0.174159</td>\n    </tr>\n  </tbody>\n</table>\n</div>"
     },
     "metadata": {},
     "execution_count": 68
    }
   ],
   "source": [
    "teste_softmax_dropout_05 = pd.read_csv(dir_teste_softmax_dropout_05)\n",
    "teste_softmax_dropout_05.head(10)"
   ]
  },
  {
   "cell_type": "code",
   "execution_count": null,
   "metadata": {},
   "outputs": [],
   "source": []
  }
 ],
 "metadata": {
  "kernelspec": {
   "display_name": "Python 3.8.1 64-bit",
   "language": "python",
   "name": "python38164bit56466246ef7a4db8a91193cf5029704c"
  },
  "language_info": {
   "codemirror_mode": {
    "name": "ipython",
    "version": 3
   },
   "file_extension": ".py",
   "mimetype": "text/x-python",
   "name": "python",
   "nbconvert_exporter": "python",
   "pygments_lexer": "ipython3",
   "version": "3.8.1-final"
  }
 },
 "nbformat": 4,
 "nbformat_minor": 4
}